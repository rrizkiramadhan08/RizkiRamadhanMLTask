{
  "cells": [
    {
      "cell_type": "markdown",
      "metadata": {
        "id": "Kk2PJ_FHYgnq"
      },
      "source": [
        "# Big data? 🤗 Datasets to the rescue!"
      ]
    },
    {
      "cell_type": "markdown",
      "metadata": {
        "id": "IZUQbiQBYgns"
      },
      "source": [
        "Install the Transformers, Datasets, and Evaluate libraries to run this notebook."
      ]
    },
    {
      "cell_type": "code",
      "execution_count": null,
      "metadata": {
        "colab": {
          "base_uri": "https://localhost:8080/"
        },
        "id": "Aoke_Xb7Ygns",
        "outputId": "659b2f31-3d37-4969-9829-a4ac332c17ef"
      },
      "outputs": [
        {
          "output_type": "stream",
          "name": "stdout",
          "text": [
            "Requirement already satisfied: datasets in /usr/local/lib/python3.10/dist-packages (3.2.0)\n",
            "Requirement already satisfied: evaluate in /usr/local/lib/python3.10/dist-packages (0.4.3)\n",
            "Requirement already satisfied: transformers[sentencepiece] in /usr/local/lib/python3.10/dist-packages (4.47.1)\n",
            "Requirement already satisfied: filelock in /usr/local/lib/python3.10/dist-packages (from datasets) (3.16.1)\n",
            "Requirement already satisfied: numpy>=1.17 in /usr/local/lib/python3.10/dist-packages (from datasets) (1.26.4)\n",
            "Requirement already satisfied: pyarrow>=15.0.0 in /usr/local/lib/python3.10/dist-packages (from datasets) (17.0.0)\n",
            "Requirement already satisfied: dill<0.3.9,>=0.3.0 in /usr/local/lib/python3.10/dist-packages (from datasets) (0.3.8)\n",
            "Requirement already satisfied: pandas in /usr/local/lib/python3.10/dist-packages (from datasets) (2.2.2)\n",
            "Requirement already satisfied: requests>=2.32.2 in /usr/local/lib/python3.10/dist-packages (from datasets) (2.32.3)\n",
            "Requirement already satisfied: tqdm>=4.66.3 in /usr/local/lib/python3.10/dist-packages (from datasets) (4.67.1)\n",
            "Requirement already satisfied: xxhash in /usr/local/lib/python3.10/dist-packages (from datasets) (3.5.0)\n",
            "Requirement already satisfied: multiprocess<0.70.17 in /usr/local/lib/python3.10/dist-packages (from datasets) (0.70.16)\n",
            "Requirement already satisfied: fsspec<=2024.9.0,>=2023.1.0 in /usr/local/lib/python3.10/dist-packages (from fsspec[http]<=2024.9.0,>=2023.1.0->datasets) (2024.9.0)\n",
            "Requirement already satisfied: aiohttp in /usr/local/lib/python3.10/dist-packages (from datasets) (3.11.10)\n",
            "Requirement already satisfied: huggingface-hub>=0.23.0 in /usr/local/lib/python3.10/dist-packages (from datasets) (0.27.0)\n",
            "Requirement already satisfied: packaging in /usr/local/lib/python3.10/dist-packages (from datasets) (24.2)\n",
            "Requirement already satisfied: pyyaml>=5.1 in /usr/local/lib/python3.10/dist-packages (from datasets) (6.0.2)\n",
            "Requirement already satisfied: regex!=2019.12.17 in /usr/local/lib/python3.10/dist-packages (from transformers[sentencepiece]) (2024.11.6)\n",
            "Requirement already satisfied: tokenizers<0.22,>=0.21 in /usr/local/lib/python3.10/dist-packages (from transformers[sentencepiece]) (0.21.0)\n",
            "Requirement already satisfied: safetensors>=0.4.1 in /usr/local/lib/python3.10/dist-packages (from transformers[sentencepiece]) (0.4.5)\n",
            "Requirement already satisfied: sentencepiece!=0.1.92,>=0.1.91 in /usr/local/lib/python3.10/dist-packages (from transformers[sentencepiece]) (0.2.0)\n",
            "Requirement already satisfied: protobuf in /usr/local/lib/python3.10/dist-packages (from transformers[sentencepiece]) (4.25.5)\n",
            "Requirement already satisfied: aiohappyeyeballs>=2.3.0 in /usr/local/lib/python3.10/dist-packages (from aiohttp->datasets) (2.4.4)\n",
            "Requirement already satisfied: aiosignal>=1.1.2 in /usr/local/lib/python3.10/dist-packages (from aiohttp->datasets) (1.3.2)\n",
            "Requirement already satisfied: async-timeout<6.0,>=4.0 in /usr/local/lib/python3.10/dist-packages (from aiohttp->datasets) (4.0.3)\n",
            "Requirement already satisfied: attrs>=17.3.0 in /usr/local/lib/python3.10/dist-packages (from aiohttp->datasets) (24.3.0)\n",
            "Requirement already satisfied: frozenlist>=1.1.1 in /usr/local/lib/python3.10/dist-packages (from aiohttp->datasets) (1.5.0)\n",
            "Requirement already satisfied: multidict<7.0,>=4.5 in /usr/local/lib/python3.10/dist-packages (from aiohttp->datasets) (6.1.0)\n",
            "Requirement already satisfied: propcache>=0.2.0 in /usr/local/lib/python3.10/dist-packages (from aiohttp->datasets) (0.2.1)\n",
            "Requirement already satisfied: yarl<2.0,>=1.17.0 in /usr/local/lib/python3.10/dist-packages (from aiohttp->datasets) (1.18.3)\n",
            "Requirement already satisfied: typing-extensions>=3.7.4.3 in /usr/local/lib/python3.10/dist-packages (from huggingface-hub>=0.23.0->datasets) (4.12.2)\n",
            "Requirement already satisfied: charset-normalizer<4,>=2 in /usr/local/lib/python3.10/dist-packages (from requests>=2.32.2->datasets) (3.4.0)\n",
            "Requirement already satisfied: idna<4,>=2.5 in /usr/local/lib/python3.10/dist-packages (from requests>=2.32.2->datasets) (3.10)\n",
            "Requirement already satisfied: urllib3<3,>=1.21.1 in /usr/local/lib/python3.10/dist-packages (from requests>=2.32.2->datasets) (2.2.3)\n",
            "Requirement already satisfied: certifi>=2017.4.17 in /usr/local/lib/python3.10/dist-packages (from requests>=2.32.2->datasets) (2024.12.14)\n",
            "Requirement already satisfied: python-dateutil>=2.8.2 in /usr/local/lib/python3.10/dist-packages (from pandas->datasets) (2.8.2)\n",
            "Requirement already satisfied: pytz>=2020.1 in /usr/local/lib/python3.10/dist-packages (from pandas->datasets) (2024.2)\n",
            "Requirement already satisfied: tzdata>=2022.7 in /usr/local/lib/python3.10/dist-packages (from pandas->datasets) (2024.2)\n",
            "Requirement already satisfied: six>=1.5 in /usr/local/lib/python3.10/dist-packages (from python-dateutil>=2.8.2->pandas->datasets) (1.17.0)\n"
          ]
        }
      ],
      "source": [
        "# Menginstal pustaka yang diperlukan untuk memproses dataset, mengevaluasi model, dan menggunakan tokenizer\n",
        "!pip install datasets evaluate transformers[sentencepiece]"
      ]
    },
    {
      "cell_type": "code",
      "execution_count": null,
      "metadata": {
        "colab": {
          "base_uri": "https://localhost:8080/"
        },
        "id": "AjMzNHBMYgnt",
        "outputId": "78c52e7f-f766-4193-d9fb-b994bebfc977"
      },
      "outputs": [
        {
          "output_type": "stream",
          "name": "stdout",
          "text": [
            "Requirement already satisfied: zstandard in /usr/local/lib/python3.10/dist-packages (0.23.0)\n"
          ]
        }
      ],
      "source": [
        "# Menginstal pustaka zstandard untuk membaca file dengan ekstensi .zst\n",
        "!pip install zstandard"
      ]
    },
    {
      "cell_type": "code",
      "execution_count": null,
      "metadata": {
        "colab": {
          "base_uri": "https://localhost:8080/",
          "height": 118,
          "referenced_widgets": [
            "880e173305844a2893084d7362f488b9",
            "f635e3e99bdd405ea99c2771d0d0f5d2",
            "8aa1fee4f027429cbb62213d4c35e803",
            "c4c5f924576a461bb7e8c1073e66fdda",
            "fa6c33d104e44ed69fcc84ca31ab59e0",
            "00d60ddbea94449691616f3e4c7c57aa",
            "1553cc1faa4f4ee68d12b025a64c213b",
            "870caf4864b84b5482bd51f8feba1343",
            "51e49386c8bd4c9ca343b02b8ecf9992",
            "93b77d4e62c94f95b3f3795e195cc724",
            "a0981dbc653f4569aedb0646102200bc"
          ]
        },
        "id": "ByRyL84NYgnt",
        "outputId": "e3c53f48-61fc-472b-eb4a-344f3ed54b31"
      },
      "outputs": [
        {
          "output_type": "display_data",
          "data": {
            "text/plain": [
              "Loading dataset shards:   0%|          | 0/49 [00:00<?, ?it/s]"
            ],
            "application/vnd.jupyter.widget-view+json": {
              "version_major": 2,
              "version_minor": 0,
              "model_id": "880e173305844a2893084d7362f488b9"
            }
          },
          "metadata": {}
        },
        {
          "output_type": "execute_result",
          "data": {
            "text/plain": [
              "Dataset({\n",
              "    features: ['meta', 'text'],\n",
              "    num_rows: 17722096\n",
              "})"
            ]
          },
          "metadata": {},
          "execution_count": 34
        }
      ],
      "source": [
        "# Mengimpor fungsi load_dataset dari pustaka datasets\n",
        "from datasets import load_dataset\n",
        "\n",
        "# Mendefinisikan file data PUBMED dari URL dalam format JSON terkompresi (.zst)\n",
        "data_files = \"https://huggingface.co/datasets/qualis2006/PUBMED_title_abstracts_2020_baseline/resolve/main/PUBMED_title_abstracts_2020_baseline.jsonl.zst\"\n",
        "\n",
        "# Memuat dataset PUBMED dalam mode \"train\" dari file JSON terkompresi\n",
        "pubmed_dataset = load_dataset(\"json\", data_files=data_files, split=\"train\")\n",
        "pubmed_dataset"
      ]
    },
    {
      "cell_type": "code",
      "execution_count": null,
      "metadata": {
        "colab": {
          "base_uri": "https://localhost:8080/"
        },
        "id": "Ng2J42tGYgnu",
        "outputId": "2abe8d35-4a50-4a8b-c844-efbdd23fddd9"
      },
      "outputs": [
        {
          "output_type": "execute_result",
          "data": {
            "text/plain": [
              "{'meta': {'pmid': 1673585, 'language': 'eng'},\n",
              " 'text': 'Cardiac beta-adrenoceptor regulation and the effects of partial agonism.\\nThe in vivo effects of xamoterol on the regulation of rat cardiac beta adrenoceptors were investigated. Rats were implanted subcutaneously with osmotic minipumps and exposed to the following treatment regimens: (1) subcutaneous infusion of saline (control), isoprenaline or xamoterol for 6 days, (2) subcutaneous infusion of isoprenaline with co-administration of xamoterol for various periods up to 96 hours, and (3) subcutaneous infusion of xamoterol for up to 96 hours after previous treatment with isoprenaline for 72 hours. Xamoterol did not induce beta-adrenoceptor down-regulation after short-term (72-hour) or long-term (6-day) infusions. When coadministered with isoprenaline xamoterol did not affect the rate or extent of down-regulation induced by isoprenaline alone. In addition, recovery of beta adrenoceptors down-regulated by isoprenaline treatment was not influenced by xamoterol treatment. In all studies, doses of xamoterol were equivalent to those producing full functional responses to the drug in vivo.'}"
            ]
          },
          "metadata": {},
          "execution_count": 35
        }
      ],
      "source": [
        "# Menampilkan dataset PUBMED yang telah dimuat\n",
        "pubmed_dataset[0]"
      ]
    },
    {
      "cell_type": "code",
      "execution_count": null,
      "metadata": {
        "colab": {
          "base_uri": "https://localhost:8080/"
        },
        "id": "dX2_ibBFYgnu",
        "outputId": "b7c6c7c9-ca09-4eed-be4f-bbe1739ad671"
      },
      "outputs": [
        {
          "output_type": "stream",
          "name": "stdout",
          "text": [
            "Requirement already satisfied: psutil in /usr/local/lib/python3.10/dist-packages (5.9.5)\n"
          ]
        }
      ],
      "source": [
        "# Menginstal pustaka psutil untuk memantau penggunaan RAM\n",
        "!pip install psutil"
      ]
    },
    {
      "cell_type": "code",
      "execution_count": null,
      "metadata": {
        "colab": {
          "base_uri": "https://localhost:8080/"
        },
        "id": "sJjkRVHZYgnu",
        "outputId": "f5c9e3f9-08d5-4b25-bd20-61a8500ddab9"
      },
      "outputs": [
        {
          "output_type": "stream",
          "name": "stdout",
          "text": [
            "RAM used: 1220.04 MB\n"
          ]
        }
      ],
      "source": [
        "import psutil\n",
        "# Menghitung dan mencetak jumlah RAM yang digunakan oleh proses Python (dalam MB)\n",
        "# Process.memory_info is expressed in bytes, so convert to megabytes\n",
        "print(f\"RAM used: {psutil.Process().memory_info().rss / (1024 * 1024):.2f} MB\")"
      ]
    },
    {
      "cell_type": "code",
      "execution_count": null,
      "metadata": {
        "colab": {
          "base_uri": "https://localhost:8080/"
        },
        "id": "Mgarv62gYgnu",
        "outputId": "da8bc144-27c1-46a7-af15-6816597f52ba"
      },
      "outputs": [
        {
          "output_type": "stream",
          "name": "stdout",
          "text": [
            "Number of files in dataset : 24453015916\n",
            "Dataset size (cache file) : 22.77 GB\n"
          ]
        }
      ],
      "source": [
        "# Mencetak jumlah file dalam dataset dan ukuran dataset dalam GB (cache file)\n",
        "print(f\"Number of files in dataset : {pubmed_dataset.dataset_size}\")\n",
        "size_gb = pubmed_dataset.dataset_size / (1024**3)\n",
        "print(f\"Dataset size (cache file) : {size_gb:.2f} GB\")"
      ]
    },
    {
      "cell_type": "code",
      "execution_count": null,
      "metadata": {
        "colab": {
          "base_uri": "https://localhost:8080/"
        },
        "id": "jWRiSJ1tYgnv",
        "outputId": "970bb2c1-52c2-475a-b4ef-124bcd9a5e04"
      },
      "outputs": [
        {
          "output_type": "stream",
          "name": "stdout",
          "text": [
            "Iterated over 17722096 examples (about 22.8 GB) in 324.1s, i.e. 0.070 GB/s\n"
          ]
        }
      ],
      "source": [
        "# Mengukur waktu iterasi melalui dataset dengan penghitungan batch\n",
        "import timeit\n",
        "\n",
        "code_snippet = \"\"\"batch_size = 1000\n",
        "\n",
        "for idx in range(0, len(pubmed_dataset), batch_size):\n",
        "    _ = pubmed_dataset[idx:idx + batch_size]\n",
        "\"\"\"\n",
        "\n",
        "time = timeit.timeit(stmt=code_snippet, number=1, globals=globals())\n",
        "print(\n",
        "    f\"Iterated over {len(pubmed_dataset)} examples (about {size_gb:.1f} GB) in \"\n",
        "    f\"{time:.1f}s, i.e. {size_gb/time:.3f} GB/s\"\n",
        ")"
      ]
    },
    {
      "cell_type": "code",
      "execution_count": null,
      "metadata": {
        "id": "fgR5-rgFYgnv"
      },
      "outputs": [],
      "source": [
        "\n",
        "# Memuat dataset dalam mode streaming untuk menghindari masalah memori\n",
        "pubmed_dataset_streamed = load_dataset(\n",
        "    \"json\", data_files=data_files, split=\"train\", streaming=True\n",
        ")"
      ]
    },
    {
      "cell_type": "code",
      "execution_count": null,
      "metadata": {
        "colab": {
          "base_uri": "https://localhost:8080/"
        },
        "id": "PhHVC59yYgnv",
        "outputId": "e067982a-b5a9-482f-b9ec-818baaf7b53c"
      },
      "outputs": [
        {
          "output_type": "execute_result",
          "data": {
            "text/plain": [
              "{'meta': {'pmid': 1673585, 'language': 'eng'},\n",
              " 'text': 'Cardiac beta-adrenoceptor regulation and the effects of partial agonism.\\nThe in vivo effects of xamoterol on the regulation of rat cardiac beta adrenoceptors were investigated. Rats were implanted subcutaneously with osmotic minipumps and exposed to the following treatment regimens: (1) subcutaneous infusion of saline (control), isoprenaline or xamoterol for 6 days, (2) subcutaneous infusion of isoprenaline with co-administration of xamoterol for various periods up to 96 hours, and (3) subcutaneous infusion of xamoterol for up to 96 hours after previous treatment with isoprenaline for 72 hours. Xamoterol did not induce beta-adrenoceptor down-regulation after short-term (72-hour) or long-term (6-day) infusions. When coadministered with isoprenaline xamoterol did not affect the rate or extent of down-regulation induced by isoprenaline alone. In addition, recovery of beta adrenoceptors down-regulated by isoprenaline treatment was not influenced by xamoterol treatment. In all studies, doses of xamoterol were equivalent to those producing full functional responses to the drug in vivo.'}"
            ]
          },
          "metadata": {},
          "execution_count": 41
        }
      ],
      "source": [
        "\n",
        "# Mengambil elemen pertama dari dataset yang dimuat secara streaming\n",
        "next(iter(pubmed_dataset_streamed))"
      ]
    },
    {
      "cell_type": "code",
      "execution_count": null,
      "metadata": {
        "colab": {
          "base_uri": "https://localhost:8080/"
        },
        "id": "nm11rr9MYgnv",
        "outputId": "fdd639f3-5dc9-401d-bd94-87a52ff2c728"
      },
      "outputs": [
        {
          "output_type": "execute_result",
          "data": {
            "text/plain": [
              "{'meta': {'pmid': 1673585, 'language': 'eng'},\n",
              " 'text': 'Cardiac beta-adrenoceptor regulation and the effects of partial agonism.\\nThe in vivo effects of xamoterol on the regulation of rat cardiac beta adrenoceptors were investigated. Rats were implanted subcutaneously with osmotic minipumps and exposed to the following treatment regimens: (1) subcutaneous infusion of saline (control), isoprenaline or xamoterol for 6 days, (2) subcutaneous infusion of isoprenaline with co-administration of xamoterol for various periods up to 96 hours, and (3) subcutaneous infusion of xamoterol for up to 96 hours after previous treatment with isoprenaline for 72 hours. Xamoterol did not induce beta-adrenoceptor down-regulation after short-term (72-hour) or long-term (6-day) infusions. When coadministered with isoprenaline xamoterol did not affect the rate or extent of down-regulation induced by isoprenaline alone. In addition, recovery of beta adrenoceptors down-regulated by isoprenaline treatment was not influenced by xamoterol treatment. In all studies, doses of xamoterol were equivalent to those producing full functional responses to the drug in vivo.',\n",
              " 'input_ids': [101,\n",
              "  15050,\n",
              "  8247,\n",
              "  1011,\n",
              "  4748,\n",
              "  7389,\n",
              "  10085,\n",
              "  23606,\n",
              "  2953,\n",
              "  7816,\n",
              "  1998,\n",
              "  1996,\n",
              "  3896,\n",
              "  1997,\n",
              "  7704,\n",
              "  3283,\n",
              "  28113,\n",
              "  1012,\n",
              "  1996,\n",
              "  1999,\n",
              "  24269,\n",
              "  3896,\n",
              "  1997,\n",
              "  1060,\n",
              "  22591,\n",
              "  27833,\n",
              "  2006,\n",
              "  1996,\n",
              "  7816,\n",
              "  1997,\n",
              "  9350,\n",
              "  15050,\n",
              "  8247,\n",
              "  4748,\n",
              "  7389,\n",
              "  10085,\n",
              "  23606,\n",
              "  5668,\n",
              "  2020,\n",
              "  10847,\n",
              "  1012,\n",
              "  11432,\n",
              "  2020,\n",
              "  27159,\n",
              "  2098,\n",
              "  4942,\n",
              "  12690,\n",
              "  17191,\n",
              "  2135,\n",
              "  2007,\n",
              "  9808,\n",
              "  18938,\n",
              "  2594,\n",
              "  7163,\n",
              "  14289,\n",
              "  25370,\n",
              "  1998,\n",
              "  6086,\n",
              "  2000,\n",
              "  1996,\n",
              "  2206,\n",
              "  3949,\n",
              "  6939,\n",
              "  3619,\n",
              "  1024,\n",
              "  1006,\n",
              "  1015,\n",
              "  1007,\n",
              "  4942,\n",
              "  12690,\n",
              "  17191,\n",
              "  1999,\n",
              "  20523,\n",
              "  1997,\n",
              "  28413,\n",
              "  1006,\n",
              "  2491,\n",
              "  1007,\n",
              "  1010,\n",
              "  11163,\n",
              "  28139,\n",
              "  12032,\n",
              "  3170,\n",
              "  2030,\n",
              "  1060,\n",
              "  22591,\n",
              "  27833,\n",
              "  2005,\n",
              "  1020,\n",
              "  2420,\n",
              "  1010,\n",
              "  1006,\n",
              "  1016,\n",
              "  1007,\n",
              "  4942,\n",
              "  12690,\n",
              "  17191,\n",
              "  1999,\n",
              "  20523,\n",
              "  1997,\n",
              "  11163,\n",
              "  28139,\n",
              "  12032,\n",
              "  3170,\n",
              "  2007,\n",
              "  2522,\n",
              "  1011,\n",
              "  3447,\n",
              "  1997,\n",
              "  1060,\n",
              "  22591,\n",
              "  27833,\n",
              "  2005,\n",
              "  2536,\n",
              "  6993,\n",
              "  2039,\n",
              "  2000,\n",
              "  5986,\n",
              "  2847,\n",
              "  1010,\n",
              "  1998,\n",
              "  1006,\n",
              "  1017,\n",
              "  1007,\n",
              "  4942,\n",
              "  12690,\n",
              "  17191,\n",
              "  1999,\n",
              "  20523,\n",
              "  1997,\n",
              "  1060,\n",
              "  22591,\n",
              "  27833,\n",
              "  2005,\n",
              "  2039,\n",
              "  2000,\n",
              "  5986,\n",
              "  2847,\n",
              "  2044,\n",
              "  3025,\n",
              "  3949,\n",
              "  2007,\n",
              "  11163,\n",
              "  28139,\n",
              "  12032,\n",
              "  3170,\n",
              "  2005,\n",
              "  5824,\n",
              "  2847,\n",
              "  1012,\n",
              "  1060,\n",
              "  22591,\n",
              "  27833,\n",
              "  2106,\n",
              "  2025,\n",
              "  19653,\n",
              "  8247,\n",
              "  1011,\n",
              "  4748,\n",
              "  7389,\n",
              "  10085,\n",
              "  23606,\n",
              "  2953,\n",
              "  2091,\n",
              "  1011,\n",
              "  7816,\n",
              "  2044,\n",
              "  2460,\n",
              "  1011,\n",
              "  2744,\n",
              "  1006,\n",
              "  5824,\n",
              "  1011,\n",
              "  3178,\n",
              "  1007,\n",
              "  2030,\n",
              "  2146,\n",
              "  1011,\n",
              "  2744,\n",
              "  1006,\n",
              "  1020,\n",
              "  1011,\n",
              "  2154,\n",
              "  1007,\n",
              "  1999,\n",
              "  20523,\n",
              "  2015,\n",
              "  1012,\n",
              "  2043,\n",
              "  28155,\n",
              "  22117,\n",
              "  5498,\n",
              "  24167,\n",
              "  2007,\n",
              "  11163,\n",
              "  28139,\n",
              "  12032,\n",
              "  3170,\n",
              "  1060,\n",
              "  22591,\n",
              "  27833,\n",
              "  2106,\n",
              "  2025,\n",
              "  7461,\n",
              "  1996,\n",
              "  3446,\n",
              "  2030,\n",
              "  6698,\n",
              "  1997,\n",
              "  2091,\n",
              "  1011,\n",
              "  7816,\n",
              "  10572,\n",
              "  2011,\n",
              "  11163,\n",
              "  28139,\n",
              "  12032,\n",
              "  3170,\n",
              "  2894,\n",
              "  1012,\n",
              "  1999,\n",
              "  2804,\n",
              "  1010,\n",
              "  7233,\n",
              "  1997,\n",
              "  8247,\n",
              "  4748,\n",
              "  7389,\n",
              "  10085,\n",
              "  23606,\n",
              "  5668,\n",
              "  2091,\n",
              "  1011,\n",
              "  12222,\n",
              "  2011,\n",
              "  11163,\n",
              "  28139,\n",
              "  12032,\n",
              "  3170,\n",
              "  3949,\n",
              "  2001,\n",
              "  2025,\n",
              "  5105,\n",
              "  2011,\n",
              "  1060,\n",
              "  22591,\n",
              "  27833,\n",
              "  3949,\n",
              "  1012,\n",
              "  1999,\n",
              "  2035,\n",
              "  2913,\n",
              "  1010,\n",
              "  21656,\n",
              "  1997,\n",
              "  1060,\n",
              "  22591,\n",
              "  27833,\n",
              "  2020,\n",
              "  5662,\n",
              "  2000,\n",
              "  2216,\n",
              "  5155,\n",
              "  2440,\n",
              "  8360,\n",
              "  10960,\n",
              "  2000,\n",
              "  1996,\n",
              "  4319,\n",
              "  1999,\n",
              "  24269,\n",
              "  1012,\n",
              "  102],\n",
              " 'attention_mask': [1,\n",
              "  1,\n",
              "  1,\n",
              "  1,\n",
              "  1,\n",
              "  1,\n",
              "  1,\n",
              "  1,\n",
              "  1,\n",
              "  1,\n",
              "  1,\n",
              "  1,\n",
              "  1,\n",
              "  1,\n",
              "  1,\n",
              "  1,\n",
              "  1,\n",
              "  1,\n",
              "  1,\n",
              "  1,\n",
              "  1,\n",
              "  1,\n",
              "  1,\n",
              "  1,\n",
              "  1,\n",
              "  1,\n",
              "  1,\n",
              "  1,\n",
              "  1,\n",
              "  1,\n",
              "  1,\n",
              "  1,\n",
              "  1,\n",
              "  1,\n",
              "  1,\n",
              "  1,\n",
              "  1,\n",
              "  1,\n",
              "  1,\n",
              "  1,\n",
              "  1,\n",
              "  1,\n",
              "  1,\n",
              "  1,\n",
              "  1,\n",
              "  1,\n",
              "  1,\n",
              "  1,\n",
              "  1,\n",
              "  1,\n",
              "  1,\n",
              "  1,\n",
              "  1,\n",
              "  1,\n",
              "  1,\n",
              "  1,\n",
              "  1,\n",
              "  1,\n",
              "  1,\n",
              "  1,\n",
              "  1,\n",
              "  1,\n",
              "  1,\n",
              "  1,\n",
              "  1,\n",
              "  1,\n",
              "  1,\n",
              "  1,\n",
              "  1,\n",
              "  1,\n",
              "  1,\n",
              "  1,\n",
              "  1,\n",
              "  1,\n",
              "  1,\n",
              "  1,\n",
              "  1,\n",
              "  1,\n",
              "  1,\n",
              "  1,\n",
              "  1,\n",
              "  1,\n",
              "  1,\n",
              "  1,\n",
              "  1,\n",
              "  1,\n",
              "  1,\n",
              "  1,\n",
              "  1,\n",
              "  1,\n",
              "  1,\n",
              "  1,\n",
              "  1,\n",
              "  1,\n",
              "  1,\n",
              "  1,\n",
              "  1,\n",
              "  1,\n",
              "  1,\n",
              "  1,\n",
              "  1,\n",
              "  1,\n",
              "  1,\n",
              "  1,\n",
              "  1,\n",
              "  1,\n",
              "  1,\n",
              "  1,\n",
              "  1,\n",
              "  1,\n",
              "  1,\n",
              "  1,\n",
              "  1,\n",
              "  1,\n",
              "  1,\n",
              "  1,\n",
              "  1,\n",
              "  1,\n",
              "  1,\n",
              "  1,\n",
              "  1,\n",
              "  1,\n",
              "  1,\n",
              "  1,\n",
              "  1,\n",
              "  1,\n",
              "  1,\n",
              "  1,\n",
              "  1,\n",
              "  1,\n",
              "  1,\n",
              "  1,\n",
              "  1,\n",
              "  1,\n",
              "  1,\n",
              "  1,\n",
              "  1,\n",
              "  1,\n",
              "  1,\n",
              "  1,\n",
              "  1,\n",
              "  1,\n",
              "  1,\n",
              "  1,\n",
              "  1,\n",
              "  1,\n",
              "  1,\n",
              "  1,\n",
              "  1,\n",
              "  1,\n",
              "  1,\n",
              "  1,\n",
              "  1,\n",
              "  1,\n",
              "  1,\n",
              "  1,\n",
              "  1,\n",
              "  1,\n",
              "  1,\n",
              "  1,\n",
              "  1,\n",
              "  1,\n",
              "  1,\n",
              "  1,\n",
              "  1,\n",
              "  1,\n",
              "  1,\n",
              "  1,\n",
              "  1,\n",
              "  1,\n",
              "  1,\n",
              "  1,\n",
              "  1,\n",
              "  1,\n",
              "  1,\n",
              "  1,\n",
              "  1,\n",
              "  1,\n",
              "  1,\n",
              "  1,\n",
              "  1,\n",
              "  1,\n",
              "  1,\n",
              "  1,\n",
              "  1,\n",
              "  1,\n",
              "  1,\n",
              "  1,\n",
              "  1,\n",
              "  1,\n",
              "  1,\n",
              "  1,\n",
              "  1,\n",
              "  1,\n",
              "  1,\n",
              "  1,\n",
              "  1,\n",
              "  1,\n",
              "  1,\n",
              "  1,\n",
              "  1,\n",
              "  1,\n",
              "  1,\n",
              "  1,\n",
              "  1,\n",
              "  1,\n",
              "  1,\n",
              "  1,\n",
              "  1,\n",
              "  1,\n",
              "  1,\n",
              "  1,\n",
              "  1,\n",
              "  1,\n",
              "  1,\n",
              "  1,\n",
              "  1,\n",
              "  1,\n",
              "  1,\n",
              "  1,\n",
              "  1,\n",
              "  1,\n",
              "  1,\n",
              "  1,\n",
              "  1,\n",
              "  1,\n",
              "  1,\n",
              "  1,\n",
              "  1,\n",
              "  1,\n",
              "  1,\n",
              "  1,\n",
              "  1,\n",
              "  1,\n",
              "  1,\n",
              "  1,\n",
              "  1,\n",
              "  1,\n",
              "  1,\n",
              "  1,\n",
              "  1,\n",
              "  1,\n",
              "  1,\n",
              "  1,\n",
              "  1,\n",
              "  1,\n",
              "  1,\n",
              "  1,\n",
              "  1,\n",
              "  1,\n",
              "  1,\n",
              "  1,\n",
              "  1,\n",
              "  1,\n",
              "  1,\n",
              "  1,\n",
              "  1,\n",
              "  1,\n",
              "  1,\n",
              "  1,\n",
              "  1,\n",
              "  1,\n",
              "  1,\n",
              "  1,\n",
              "  1,\n",
              "  1,\n",
              "  1,\n",
              "  1,\n",
              "  1,\n",
              "  1,\n",
              "  1,\n",
              "  1,\n",
              "  1]}"
            ]
          },
          "metadata": {},
          "execution_count": 42
        }
      ],
      "source": [
        "# Mengimpor tokenizer DistilBERT dari Transformers\n",
        "from transformers import AutoTokenizer\n",
        "# Memuat tokenizer DistilBERT yang telah dilatih sebelumnya\n",
        "tokenizer = AutoTokenizer.from_pretrained(\"distilbert-base-uncased\")\n",
        "# Menerapkan tokenisasi pada dataset streaming\n",
        "tokenized_dataset = pubmed_dataset_streamed.map(lambda x: tokenizer(x[\"text\"]))\n",
        "\n",
        "# Mengambil elemen pertama dari dataset yang telah ditokenisasi\n",
        "next(iter(tokenized_dataset))"
      ]
    },
    {
      "cell_type": "code",
      "execution_count": null,
      "metadata": {
        "colab": {
          "base_uri": "https://localhost:8080/"
        },
        "id": "FXftUm2aYgnw",
        "outputId": "f15b4047-2601-4162-e575-12af8e32c4e4"
      },
      "outputs": [
        {
          "output_type": "execute_result",
          "data": {
            "text/plain": [
              "{'meta': {'pmid': 1675166, 'language': 'ita'},\n",
              " 'text': '[Benzodiazepine withdrawal syndrome].\\nBenzodiazepines (BDZ) are widely prescribed in clinical practice for many pathological conditions, because of their anxiolytic, sedative, myorelaxant and anticonvulsant properties. The effectiveness, specificity and rapidity of action, the few side effects and the virtual absence of toxicity, have contributed to the widespread use of these compounds. In the last decade, however, the attitude towards BDZ has greatly changed, due to growing awareness and concern about dependence liability, withdrawal phenomena, and long-term side effects. Withdrawal symptoms have been singled out and specified in the contest of a well-defined syndrome with foreseeable onset, duration and remission. Psychic and physical symptoms and disorders of sensory perception can be observed. These manifestations can be suppressed by resuming treatment. The symptomatic and developmental aspects of BDZ withdrawal syndrome are discussed, according to the available literature, with particular reference to clinical features of patients suffering from anxiety and mood disorders.'}"
            ]
          },
          "metadata": {},
          "execution_count": 43
        }
      ],
      "source": [
        "\n",
        "# Mengacak dataset streaming dengan buffer sebesar 10.000 elemen\n",
        "shuffled_dataset = pubmed_dataset_streamed.shuffle(buffer_size=10_000, seed=42)\n",
        "# Mengambil elemen pertama dari dataset yang telah diacak\n",
        "next(iter(shuffled_dataset))"
      ]
    },
    {
      "cell_type": "code",
      "execution_count": null,
      "metadata": {
        "colab": {
          "base_uri": "https://localhost:8080/"
        },
        "id": "jimuf1IRYgnw",
        "outputId": "81ddd2f2-3749-42f1-c9a7-aecc557d01a0"
      },
      "outputs": [
        {
          "output_type": "execute_result",
          "data": {
            "text/plain": [
              "[{'meta': {'pmid': 1673585, 'language': 'eng'},\n",
              "  'text': 'Cardiac beta-adrenoceptor regulation and the effects of partial agonism.\\nThe in vivo effects of xamoterol on the regulation of rat cardiac beta adrenoceptors were investigated. Rats were implanted subcutaneously with osmotic minipumps and exposed to the following treatment regimens: (1) subcutaneous infusion of saline (control), isoprenaline or xamoterol for 6 days, (2) subcutaneous infusion of isoprenaline with co-administration of xamoterol for various periods up to 96 hours, and (3) subcutaneous infusion of xamoterol for up to 96 hours after previous treatment with isoprenaline for 72 hours. Xamoterol did not induce beta-adrenoceptor down-regulation after short-term (72-hour) or long-term (6-day) infusions. When coadministered with isoprenaline xamoterol did not affect the rate or extent of down-regulation induced by isoprenaline alone. In addition, recovery of beta adrenoceptors down-regulated by isoprenaline treatment was not influenced by xamoterol treatment. In all studies, doses of xamoterol were equivalent to those producing full functional responses to the drug in vivo.'},\n",
              " {'meta': {'pmid': 1673586, 'language': 'eng'},\n",
              "  'text': 'Interrupting the adaptive changes in congestive heart failure.\\nCirculating plasma concentrations of norepinephrine, renin, angiotensin and vasopressin are increased in congestive heart failure. By increasing ventricular afterload, heart failure is further worsened, which in turn--in a vicious cycle--stimulates neurohumoral vasoconstrictor mechanisms. Furthermore, because of the compensatory but excessive stimulation of the sympathomimetic system, a down-regulation and desensitization particularly of the myocardial beta 1 receptors and depletion of myocardial catecholamine occurs in chronic heart failure. These defects may be restored toward normal by interventions that attenuate the activity of the sympathetic nervous system. A direct approach to modify the excessive vasoconstriction is to administer systemic vasodilator drugs, but despite favorable short-term effects, tolerance developed to most of these drugs during long-term treatment. One reason for the loss of effectiveness is the reflex activation of the sympathetic system, which increases vasoconstrictor hormone concentrations. Activation of the renin-angiotensin system can be modified effectively by angiotensin-converting enzyme inhibitors that have shown favorable responses in patients with chronic heart failure. Beta-blocking agents interfere with endogenous sympathetic activation and have produced beneficial effects in patients with congestive cardiomyopathy. Long-term treatment is associated with up-regulation of the number of beta receptors and an improved responsiveness to catecholamines. Owing to the negative inotropic effects of beta-blocking agents, some of the patients with severe heart failure deteriorated hemodynamically and clinically. Theoretically, it should be advantageous to have a substance that combines protection against excessive beta stimulation with a mild inotropic support to prevent cardiac decompensation. This may be achieved by a selective beta 1-partial agonist like xamoterol.'},\n",
              " {'meta': {'pmid': 1673587, 'language': 'eng'},\n",
              "  'text': 'Acute and chronic hemodynamic effects of xamoterol in mild to moderate congestive heart failure.\\nXamoterol, a new beta 1 partial agonist, has the potential to modulate cardiac response to variations in sympathetic tone in patients with heart failure. Its properties should result in beta-receptor stimulatory effects at low levels of sympathetic tone and beta-receptor protective effects at higher levels of sympathetic tone. The acute effects of intravenous (i.v.) xamoterol on hemodynamics at rest and during exercise were studied in 30 patients with mild to moderate heart failure (13 patients in New York Heart Association class II; 17 in class III) due to ischemic (n = 24) or cardiomyopathic (n = 6) heart disease. Cardiac index, stroke volume and stroke work index at rest were significantly improved after i.v. administration of xamoterol and consistent with net agonist effects. During exercise, heart rate and double product were significantly reduced (net antagonist effects), but with preservation of the expected increases in cardiac index and systolic blood pressure. These hemodynamic findings confirm the ability of xamoterol to modulate cardiac response to variations in sympathetic tone. Tachyphylaxis and arrhythmogenicity limit the chronic use of drugs with full beta-agonist properties as positive inotropes in heart failure. The patients were therefore entered into a 6-month double-blind, placebo-controlled, crossover study of chronic oral xamoterol therapy, 200 mg twice daily, and the hemodynamic responses to i.v. xamoterol were repeated at the end of the trial. No impairment in either resting or exercise effects was observed, indicative of a maintained response and absence of tachyphylaxis after chronic therapy. Furthermore, 24-hour ambulatory electrocardiographic monitoring showed no change in ventricular arrhythmias during oral treatment.(ABSTRACT TRUNCATED AT 250 WORDS)'},\n",
              " {'meta': {'pmid': 1673588, 'language': 'eng'},\n",
              "  'text': 'Local cardiac responses--alternative methods of control.\\nMuch attention has been paid to the influence of the beta-adrenoceptor system on cardiac function in heart failure. Full agonists and partial agonists acting on cardiac beta 1 receptors have been widely investigated, as has the density of these receptors in the failing heart. However, other cardiac control mechanisms may play important roles in the normal heart as well as in heart failure. The Frank-Starling mechanism of enhanced cardiac contraction produced by mechanical stretching of the ventricular myofibrils is well known. When treating patients with heart failure with diuretics, vasodilators and other drugs that influence preload, it is important to consider their overall effects in relation to the Starling curves. Atrial stretching also produces compensatory responses which are currently being intensively studied. Reflex release of atrial natriuretic factor after stimulation of atrial receptors has important physiologic effects in heart failure. The atria, but not the ventricles, are innervated by the vagus; the influence of the parasympathetic nervous system on the heart and circulation is often overlooked. The initial increase in heart rate during exercise is primarily due to withdrawal of vagal influence. Besides acetylcholine, the parasympathetic transmitter, many other local hormones may affect cardiac function; these include prostaglandins, 5-hydroxytryptamine and histamine. Although the activity of the sympathetic nervous system is mediated primarily through beta 1 adrenoceptors, both beta 2 and alpha receptors are also found in the heart. Myocardial alpha 1 receptors, which mediate a positive inotropic effect, have been identified, and prejunctional alpha 2 receptors may mediate inhibition of norepinephrine release from sympathetic nerves.(ABSTRACT TRUNCATED AT 250 WORDS)'},\n",
              " {'meta': {'pmid': 1673589, 'language': 'eng'},\n",
              "  'text': 'Dietary alpha-linolenic acid is as effective as oleic acid and linoleic acid in lowering blood cholesterol in normolipidemic men.\\nThe effect of dietary oleic acid (OA), linoleic acid (LA), and linolenic acid (LNA) on plasma lipid metabolism was studied in eight normolipidemic men. A mixed-fat diet composed of conventional foods was fed during 6-d pre- and post-experimental periods. The same basic diet but with 75% of the fat (26% of total energy) provided by sunflower and olive; canola; soybean; and sunflower, olive, and flax oils was fed during four 18-d experimental periods. Mean plasma total cholesterol (-18%), low-density-lipoprotein-cholesterol, (-22%) and very-low-density-lipoprotein-cholesterol (-41%) concentrations were significantly (P less than 0.004) lower after the experimental diets than after the mixed-fat diet. Mean serum apolipoprotein B (-19%) and apolipoprotein A-I (-9%) concentrations were also significantly (P less than 0.0007) lower after the experimental diets. The experimental diets were equally effective in lowering total and lipoprotein cholesterol and apolipoprotein concentrations in plasma, indicating that dietary OA, LA, and LNA were equally hypocholesterolemic.'}]"
            ]
          },
          "metadata": {},
          "execution_count": 44
        }
      ],
      "source": [
        "# Mengambil lima elemen pertama dari dataset streaming\n",
        "dataset_head = pubmed_dataset_streamed.take(5)\n",
        "list(dataset_head)"
      ]
    },
    {
      "cell_type": "code",
      "execution_count": null,
      "metadata": {
        "id": "EXflm3bXYgnw"
      },
      "outputs": [],
      "source": [
        "# Membuat dataset pelatihan dengan melewati 1.000 elemen pertama dari dataset yang diacak\n",
        "train_dataset = shuffled_dataset.skip(1000)\n",
        "# Membuat dataset validasi dengan mengambil 1.000 elemen pertama dari dataset yang diacak\n",
        "validation_dataset = shuffled_dataset.take(1000)"
      ]
    }
  ],
  "metadata": {
    "colab": {
      "provenance": []
    },
    "language_info": {
      "name": "python"
    },
    "kernelspec": {
      "name": "python3",
      "display_name": "Python 3"
    },
    "widgets": {
      "application/vnd.jupyter.widget-state+json": {
        "880e173305844a2893084d7362f488b9": {
          "model_module": "@jupyter-widgets/controls",
          "model_name": "HBoxModel",
          "model_module_version": "1.5.0",
          "state": {
            "_dom_classes": [],
            "_model_module": "@jupyter-widgets/controls",
            "_model_module_version": "1.5.0",
            "_model_name": "HBoxModel",
            "_view_count": null,
            "_view_module": "@jupyter-widgets/controls",
            "_view_module_version": "1.5.0",
            "_view_name": "HBoxView",
            "box_style": "",
            "children": [
              "IPY_MODEL_f635e3e99bdd405ea99c2771d0d0f5d2",
              "IPY_MODEL_8aa1fee4f027429cbb62213d4c35e803",
              "IPY_MODEL_c4c5f924576a461bb7e8c1073e66fdda"
            ],
            "layout": "IPY_MODEL_fa6c33d104e44ed69fcc84ca31ab59e0"
          }
        },
        "f635e3e99bdd405ea99c2771d0d0f5d2": {
          "model_module": "@jupyter-widgets/controls",
          "model_name": "HTMLModel",
          "model_module_version": "1.5.0",
          "state": {
            "_dom_classes": [],
            "_model_module": "@jupyter-widgets/controls",
            "_model_module_version": "1.5.0",
            "_model_name": "HTMLModel",
            "_view_count": null,
            "_view_module": "@jupyter-widgets/controls",
            "_view_module_version": "1.5.0",
            "_view_name": "HTMLView",
            "description": "",
            "description_tooltip": null,
            "layout": "IPY_MODEL_00d60ddbea94449691616f3e4c7c57aa",
            "placeholder": "​",
            "style": "IPY_MODEL_1553cc1faa4f4ee68d12b025a64c213b",
            "value": "Loading dataset shards: 100%"
          }
        },
        "8aa1fee4f027429cbb62213d4c35e803": {
          "model_module": "@jupyter-widgets/controls",
          "model_name": "FloatProgressModel",
          "model_module_version": "1.5.0",
          "state": {
            "_dom_classes": [],
            "_model_module": "@jupyter-widgets/controls",
            "_model_module_version": "1.5.0",
            "_model_name": "FloatProgressModel",
            "_view_count": null,
            "_view_module": "@jupyter-widgets/controls",
            "_view_module_version": "1.5.0",
            "_view_name": "ProgressView",
            "bar_style": "success",
            "description": "",
            "description_tooltip": null,
            "layout": "IPY_MODEL_870caf4864b84b5482bd51f8feba1343",
            "max": 49,
            "min": 0,
            "orientation": "horizontal",
            "style": "IPY_MODEL_51e49386c8bd4c9ca343b02b8ecf9992",
            "value": 49
          }
        },
        "c4c5f924576a461bb7e8c1073e66fdda": {
          "model_module": "@jupyter-widgets/controls",
          "model_name": "HTMLModel",
          "model_module_version": "1.5.0",
          "state": {
            "_dom_classes": [],
            "_model_module": "@jupyter-widgets/controls",
            "_model_module_version": "1.5.0",
            "_model_name": "HTMLModel",
            "_view_count": null,
            "_view_module": "@jupyter-widgets/controls",
            "_view_module_version": "1.5.0",
            "_view_name": "HTMLView",
            "description": "",
            "description_tooltip": null,
            "layout": "IPY_MODEL_93b77d4e62c94f95b3f3795e195cc724",
            "placeholder": "​",
            "style": "IPY_MODEL_a0981dbc653f4569aedb0646102200bc",
            "value": " 49/49 [02:32&lt;00:00,  1.64s/it]"
          }
        },
        "fa6c33d104e44ed69fcc84ca31ab59e0": {
          "model_module": "@jupyter-widgets/base",
          "model_name": "LayoutModel",
          "model_module_version": "1.2.0",
          "state": {
            "_model_module": "@jupyter-widgets/base",
            "_model_module_version": "1.2.0",
            "_model_name": "LayoutModel",
            "_view_count": null,
            "_view_module": "@jupyter-widgets/base",
            "_view_module_version": "1.2.0",
            "_view_name": "LayoutView",
            "align_content": null,
            "align_items": null,
            "align_self": null,
            "border": null,
            "bottom": null,
            "display": null,
            "flex": null,
            "flex_flow": null,
            "grid_area": null,
            "grid_auto_columns": null,
            "grid_auto_flow": null,
            "grid_auto_rows": null,
            "grid_column": null,
            "grid_gap": null,
            "grid_row": null,
            "grid_template_areas": null,
            "grid_template_columns": null,
            "grid_template_rows": null,
            "height": null,
            "justify_content": null,
            "justify_items": null,
            "left": null,
            "margin": null,
            "max_height": null,
            "max_width": null,
            "min_height": null,
            "min_width": null,
            "object_fit": null,
            "object_position": null,
            "order": null,
            "overflow": null,
            "overflow_x": null,
            "overflow_y": null,
            "padding": null,
            "right": null,
            "top": null,
            "visibility": null,
            "width": null
          }
        },
        "00d60ddbea94449691616f3e4c7c57aa": {
          "model_module": "@jupyter-widgets/base",
          "model_name": "LayoutModel",
          "model_module_version": "1.2.0",
          "state": {
            "_model_module": "@jupyter-widgets/base",
            "_model_module_version": "1.2.0",
            "_model_name": "LayoutModel",
            "_view_count": null,
            "_view_module": "@jupyter-widgets/base",
            "_view_module_version": "1.2.0",
            "_view_name": "LayoutView",
            "align_content": null,
            "align_items": null,
            "align_self": null,
            "border": null,
            "bottom": null,
            "display": null,
            "flex": null,
            "flex_flow": null,
            "grid_area": null,
            "grid_auto_columns": null,
            "grid_auto_flow": null,
            "grid_auto_rows": null,
            "grid_column": null,
            "grid_gap": null,
            "grid_row": null,
            "grid_template_areas": null,
            "grid_template_columns": null,
            "grid_template_rows": null,
            "height": null,
            "justify_content": null,
            "justify_items": null,
            "left": null,
            "margin": null,
            "max_height": null,
            "max_width": null,
            "min_height": null,
            "min_width": null,
            "object_fit": null,
            "object_position": null,
            "order": null,
            "overflow": null,
            "overflow_x": null,
            "overflow_y": null,
            "padding": null,
            "right": null,
            "top": null,
            "visibility": null,
            "width": null
          }
        },
        "1553cc1faa4f4ee68d12b025a64c213b": {
          "model_module": "@jupyter-widgets/controls",
          "model_name": "DescriptionStyleModel",
          "model_module_version": "1.5.0",
          "state": {
            "_model_module": "@jupyter-widgets/controls",
            "_model_module_version": "1.5.0",
            "_model_name": "DescriptionStyleModel",
            "_view_count": null,
            "_view_module": "@jupyter-widgets/base",
            "_view_module_version": "1.2.0",
            "_view_name": "StyleView",
            "description_width": ""
          }
        },
        "870caf4864b84b5482bd51f8feba1343": {
          "model_module": "@jupyter-widgets/base",
          "model_name": "LayoutModel",
          "model_module_version": "1.2.0",
          "state": {
            "_model_module": "@jupyter-widgets/base",
            "_model_module_version": "1.2.0",
            "_model_name": "LayoutModel",
            "_view_count": null,
            "_view_module": "@jupyter-widgets/base",
            "_view_module_version": "1.2.0",
            "_view_name": "LayoutView",
            "align_content": null,
            "align_items": null,
            "align_self": null,
            "border": null,
            "bottom": null,
            "display": null,
            "flex": null,
            "flex_flow": null,
            "grid_area": null,
            "grid_auto_columns": null,
            "grid_auto_flow": null,
            "grid_auto_rows": null,
            "grid_column": null,
            "grid_gap": null,
            "grid_row": null,
            "grid_template_areas": null,
            "grid_template_columns": null,
            "grid_template_rows": null,
            "height": null,
            "justify_content": null,
            "justify_items": null,
            "left": null,
            "margin": null,
            "max_height": null,
            "max_width": null,
            "min_height": null,
            "min_width": null,
            "object_fit": null,
            "object_position": null,
            "order": null,
            "overflow": null,
            "overflow_x": null,
            "overflow_y": null,
            "padding": null,
            "right": null,
            "top": null,
            "visibility": null,
            "width": null
          }
        },
        "51e49386c8bd4c9ca343b02b8ecf9992": {
          "model_module": "@jupyter-widgets/controls",
          "model_name": "ProgressStyleModel",
          "model_module_version": "1.5.0",
          "state": {
            "_model_module": "@jupyter-widgets/controls",
            "_model_module_version": "1.5.0",
            "_model_name": "ProgressStyleModel",
            "_view_count": null,
            "_view_module": "@jupyter-widgets/base",
            "_view_module_version": "1.2.0",
            "_view_name": "StyleView",
            "bar_color": null,
            "description_width": ""
          }
        },
        "93b77d4e62c94f95b3f3795e195cc724": {
          "model_module": "@jupyter-widgets/base",
          "model_name": "LayoutModel",
          "model_module_version": "1.2.0",
          "state": {
            "_model_module": "@jupyter-widgets/base",
            "_model_module_version": "1.2.0",
            "_model_name": "LayoutModel",
            "_view_count": null,
            "_view_module": "@jupyter-widgets/base",
            "_view_module_version": "1.2.0",
            "_view_name": "LayoutView",
            "align_content": null,
            "align_items": null,
            "align_self": null,
            "border": null,
            "bottom": null,
            "display": null,
            "flex": null,
            "flex_flow": null,
            "grid_area": null,
            "grid_auto_columns": null,
            "grid_auto_flow": null,
            "grid_auto_rows": null,
            "grid_column": null,
            "grid_gap": null,
            "grid_row": null,
            "grid_template_areas": null,
            "grid_template_columns": null,
            "grid_template_rows": null,
            "height": null,
            "justify_content": null,
            "justify_items": null,
            "left": null,
            "margin": null,
            "max_height": null,
            "max_width": null,
            "min_height": null,
            "min_width": null,
            "object_fit": null,
            "object_position": null,
            "order": null,
            "overflow": null,
            "overflow_x": null,
            "overflow_y": null,
            "padding": null,
            "right": null,
            "top": null,
            "visibility": null,
            "width": null
          }
        },
        "a0981dbc653f4569aedb0646102200bc": {
          "model_module": "@jupyter-widgets/controls",
          "model_name": "DescriptionStyleModel",
          "model_module_version": "1.5.0",
          "state": {
            "_model_module": "@jupyter-widgets/controls",
            "_model_module_version": "1.5.0",
            "_model_name": "DescriptionStyleModel",
            "_view_count": null,
            "_view_module": "@jupyter-widgets/base",
            "_view_module_version": "1.2.0",
            "_view_name": "StyleView",
            "description_width": ""
          }
        }
      }
    }
  },
  "nbformat": 4,
  "nbformat_minor": 0
}