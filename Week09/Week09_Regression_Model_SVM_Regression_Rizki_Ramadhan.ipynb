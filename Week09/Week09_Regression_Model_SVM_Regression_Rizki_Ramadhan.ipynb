{
  "nbformat": 4,
  "nbformat_minor": 0,
  "metadata": {
    "colab": {
      "provenance": [],
      "authorship_tag": "ABX9TyM1kYdnQlmFlVtNLVv00yXd",
      "include_colab_link": true
    },
    "kernelspec": {
      "name": "python3",
      "display_name": "Python 3"
    },
    "language_info": {
      "name": "python"
    }
  },
  "cells": [
    {
      "cell_type": "markdown",
      "metadata": {
        "id": "view-in-github",
        "colab_type": "text"
      },
      "source": [
        "<a href=\"https://colab.research.google.com/github/rrizkiramadhan08/RizkiRamadhanTask/blob/main/Week09/Week09_Regression_Model_SVM_Regression_Rizki_Ramadhan.ipynb\" target=\"_parent\"><img src=\"https://colab.research.google.com/assets/colab-badge.svg\" alt=\"Open In Colab\"/></a>"
      ]
    },
    {
      "cell_type": "code",
      "execution_count": 71,
      "metadata": {
        "id": "JhoMS-o6rQvM"
      },
      "outputs": [],
      "source": [
        "import pandas as pd\n",
        "import numpy as np\n",
        "from sklearn.model_selection import train_test_split\n",
        "from sklearn.preprocessing import StandardScaler, OneHotEncoder, LabelEncoder\n",
        "from sklearn.compose import ColumnTransformer\n",
        "from sklearn.svm import SVR\n",
        "from sklearn.metrics import mean_squared_error, mean_absolute_error, r2_score\n",
        "import matplotlib.pyplot as plt\n",
        "from google.colab import drive"
      ]
    },
    {
      "cell_type": "code",
      "source": [
        "# Menghubungkan Google Drive agar dapat mengakses dataset\n",
        "# Dataset harus sudah di-upload ke Google Drive agar dapat diproses\n",
        "# Menggunakan Google Colab, kita dapat mengakses dataset yang tersimpan di Google Drive\n",
        "print(\"Menghubungkan ke Google Drive...\")\n",
        "drive.mount('/content/gdrive')"
      ],
      "metadata": {
        "id": "kF50-XWirvjN"
      },
      "execution_count": 72,
      "outputs": []
    },
    {
      "cell_type": "code",
      "source": [
        "# Mengimpor dataset \"CreditDataset.csv\" dari Google Drive\n",
        "# Path disesuaikan dengan lokasi file di Google Drive\n",
        "print(\"Membaca dataset dari Google Drive...\")\n",
        "dataset_path = '/content/gdrive/MyDrive/DATA SET/CreditDataset.csv'\n",
        "df = pd.read_csv(dataset_path)"
      ],
      "metadata": {
        "colab": {
          "base_uri": "https://localhost:8080/"
        },
        "id": "YY1OnBH3rzPY",
        "outputId": "ad2be602-b2f7-41dc-f275-4cf9d3108b51"
      },
      "execution_count": 73,
      "outputs": [
        {
          "output_type": "stream",
          "name": "stdout",
          "text": [
            "Membaca dataset dari Google Drive...\n"
          ]
        }
      ]
    },
    {
      "cell_type": "code",
      "source": [
        "# Menampilkan lima data teratas dari dataset\n",
        "# Memeriksa struktur dataset dan melihat beberapa sampel data\n",
        "print(\"Menampilkan data sample:\")\n",
        "print(df.head())"
      ],
      "metadata": {
        "colab": {
          "base_uri": "https://localhost:8080/"
        },
        "id": "QTfzccO9rz1T",
        "outputId": "c3efc7cd-bc48-418e-8c93-67daaa428786"
      },
      "execution_count": 74,
      "outputs": [
        {
          "output_type": "stream",
          "name": "stdout",
          "text": [
            "Menampilkan data sample:\n",
            "    x1  x2   x3   x4    x5   x6   x7  x8   x9   x10  ...   x12 x13   x14  \\\n",
            "0  A11   6  A34  A43  1169  A65  A75   4  A93  A101  ...  A121  67  A143   \n",
            "1  A12  48  A32  A43  5951  A61  A73   2  A92  A101  ...  A121  22  A143   \n",
            "2  A14  12  A34  A46  2096  A61  A74   2  A93  A101  ...  A121  49  A143   \n",
            "3  A11  42  A32  A42  7882  A61  A74   2  A93  A103  ...  A122  45  A143   \n",
            "4  A11  24  A33  A40  4870  A61  A73   3  A93  A101  ...  A124  53  A143   \n",
            "\n",
            "    x15 x16   x17 x18   x19   x20 Class  \n",
            "0  A152   2  A173   1  A192  A201     1  \n",
            "1  A152   1  A173   1  A191  A201     2  \n",
            "2  A152   1  A172   2  A191  A201     1  \n",
            "3  A153   1  A173   2  A191  A201     1  \n",
            "4  A153   2  A173   2  A191  A201     2  \n",
            "\n",
            "[5 rows x 21 columns]\n"
          ]
        }
      ]
    },
    {
      "cell_type": "code",
      "source": [
        "# Memeriksa nilai null dan informasi dataset secara keseluruhan\n",
        "# Untuk melihat apakah ada nilai kosong yang perlu diproses\n",
        "print(\"Memeriksa nilai null dalam dataset...\")\n",
        "print(df.info())"
      ],
      "metadata": {
        "colab": {
          "base_uri": "https://localhost:8080/"
        },
        "id": "5EKSMoEMrzwX",
        "outputId": "c6b91b6f-dd82-4212-85d2-8ec9130787a6"
      },
      "execution_count": 75,
      "outputs": [
        {
          "output_type": "stream",
          "name": "stdout",
          "text": [
            "Memeriksa nilai null dalam dataset...\n",
            "<class 'pandas.core.frame.DataFrame'>\n",
            "RangeIndex: 1000 entries, 0 to 999\n",
            "Data columns (total 21 columns):\n",
            " #   Column  Non-Null Count  Dtype \n",
            "---  ------  --------------  ----- \n",
            " 0   x1      1000 non-null   object\n",
            " 1   x2      1000 non-null   int64 \n",
            " 2   x3      1000 non-null   object\n",
            " 3   x4      1000 non-null   object\n",
            " 4   x5      1000 non-null   int64 \n",
            " 5   x6      1000 non-null   object\n",
            " 6   x7      1000 non-null   object\n",
            " 7   x8      1000 non-null   int64 \n",
            " 8   x9      1000 non-null   object\n",
            " 9   x10     1000 non-null   object\n",
            " 10  x11     1000 non-null   int64 \n",
            " 11  x12     1000 non-null   object\n",
            " 12  x13     1000 non-null   int64 \n",
            " 13  x14     1000 non-null   object\n",
            " 14  x15     1000 non-null   object\n",
            " 15  x16     1000 non-null   int64 \n",
            " 16  x17     1000 non-null   object\n",
            " 17  x18     1000 non-null   int64 \n",
            " 18  x19     1000 non-null   object\n",
            " 19  x20     1000 non-null   object\n",
            " 20  Class   1000 non-null   int64 \n",
            "dtypes: int64(8), object(13)\n",
            "memory usage: 164.2+ KB\n",
            "None\n"
          ]
        }
      ]
    },
    {
      "cell_type": "code",
      "source": [
        "# Menghapus baris yang mengandung nilai null (jika ada)\n",
        "# Mengatasi data yang hilang agar tidak mengganggu hasil model\n",
        "print(\"Menghapus nilai null dari dataset...\")\n",
        "df = df.dropna()"
      ],
      "metadata": {
        "colab": {
          "base_uri": "https://localhost:8080/"
        },
        "id": "Vkqb2AyVrztx",
        "outputId": "38d4fd68-a9c7-4866-da6f-eed50a7c2785"
      },
      "execution_count": 76,
      "outputs": [
        {
          "output_type": "stream",
          "name": "stdout",
          "text": [
            "Menghapus nilai null dari dataset...\n"
          ]
        }
      ]
    },
    {
      "cell_type": "code",
      "source": [
        "# Memisahkan data fitur (X) dan target (y)\n",
        "# X adalah variabel bebas (fitur) dan y adalah variabel target\n",
        "X = df.drop(columns=['Class'])  # Anggap kolom Class adalah kolom yang akan diprediksi\n",
        "y = df['Class']"
      ],
      "metadata": {
        "id": "7n6TbnogrzrS"
      },
      "execution_count": 77,
      "outputs": []
    },
    {
      "cell_type": "code",
      "source": [
        "# Mengidentifikasi fitur kategorikal dan numerik\n",
        "categorical_features = X.select_dtypes(include=['object']).columns\n",
        "numeric_features = X.select_dtypes(include=['int64', 'float64']).columns\n",
        "\n",
        "# Mengubah fitur kategorikal menjadi numerik menggunakan LabelEncoder\n",
        "# OneHotEncoder tidak selalu cocok untuk SVR, jadi kita menggunakan LabelEncoder\n",
        "print(\"Melakukan label encoding untuk fitur kategorikal...\")\n",
        "label_encoders = {}\n",
        "for col in categorical_features:\n",
        "    le = LabelEncoder()\n",
        "    X[col] = le.fit_transform(X[col])\n",
        "    label_encoders[col] = le\n",
        "\n",
        "\n",
        "# Menstandarisasi fitur numerik\n",
        "print(\"Melakukan standardisasi fitur numerik...\")\n",
        "scaler = StandardScaler()\n",
        "X[numeric_features] = scaler.fit_transform(X[numeric_features])"
      ],
      "metadata": {
        "colab": {
          "base_uri": "https://localhost:8080/"
        },
        "id": "VDgrsvXVtBYe",
        "outputId": "af5c6b42-bb32-4d45-8e87-7e3c8afdf626"
      },
      "execution_count": 78,
      "outputs": [
        {
          "output_type": "stream",
          "name": "stdout",
          "text": [
            "Melakukan label encoding untuk fitur kategorikal...\n",
            "Melakukan standardisasi fitur numerik...\n"
          ]
        }
      ]
    },
    {
      "cell_type": "code",
      "source": [
        "# Membagi dataset menjadi data latih (train) dan data uji (test)\n",
        "# 80% data untuk latih dan 20% data untuk uji\n",
        "print(\"Membagi dataset menjadi train dan test...\")\n",
        "X_train, X_test, y_train, y_test = train_test_split(X, y, test_size=0.2, random_state=42)\n"
      ],
      "metadata": {
        "colab": {
          "base_uri": "https://localhost:8080/"
        },
        "id": "_LQIOGMktBaw",
        "outputId": "e7dc22c5-ab45-4731-b36b-6184bafe33d2"
      },
      "execution_count": 79,
      "outputs": [
        {
          "output_type": "stream",
          "name": "stdout",
          "text": [
            "Membagi dataset menjadi train dan test...\n"
          ]
        }
      ]
    },
    {
      "cell_type": "code",
      "source": [
        " # Membuat dan melatih model SVM Regression (SVR)\n",
        "# Menggunakan kernel radial basis function (RBF)\n",
        "print(\"Membuat model SVR dan melatih model...\")\n",
        "svm_regressor = SVR(kernel='rbf')\n",
        "svm_regressor.fit(X_train, y_train)\n",
        "\n",
        "# Melakukan prediksi menggunakan data uji\n",
        "print(\"Melakukan prediksi pada data uji...\")\n",
        "y_pred = svm_regressor.predict(X_test)\n"
      ],
      "metadata": {
        "colab": {
          "base_uri": "https://localhost:8080/"
        },
        "id": "vhiuEx8-tBV9",
        "outputId": "a365c115-4806-4199-d162-1e0ceba55b1e"
      },
      "execution_count": 80,
      "outputs": [
        {
          "output_type": "stream",
          "name": "stdout",
          "text": [
            "Membuat model SVR dan melatih model...\n",
            "Melakukan prediksi pada data uji...\n"
          ]
        }
      ]
    },
    {
      "cell_type": "code",
      "source": [
        "# Menghitung metrik evaluasi untuk model regresi\n",
        "# Mengukur kinerja model menggunakan metrik MAE, MSE, dan R-squared\n",
        "print(\"Evaluasi Model...\")\n",
        "mse = mean_squared_error(y_test, y_pred)\n",
        "mae = mean_absolute_error(y_test, y_pred)\n",
        "r2 = r2_score(y_test, y_pred)\n",
        "\n",
        "print(\"Mean Squared Error (MSE):\", mse)\n",
        "print(\"Mean Absolute Error (MAE):\", mae)\n",
        "print(\"R-Squared:\", r2)"
      ],
      "metadata": {
        "colab": {
          "base_uri": "https://localhost:8080/"
        },
        "id": "zRtpVhIMtBTk",
        "outputId": "f5a356e9-3440-4c23-a66a-0683da51ca47"
      },
      "execution_count": 81,
      "outputs": [
        {
          "output_type": "stream",
          "name": "stdout",
          "text": [
            "Evaluasi Model...\n",
            "Mean Squared Error (MSE): 0.16564033566102623\n",
            "Mean Absolute Error (MAE): 0.2903990632076922\n",
            "R-Squared: 0.20355650601742403\n"
          ]
        }
      ]
    },
    {
      "cell_type": "code",
      "source": [
        "# Membuat plot hasil prediksi vs nilai sebenarnya\n",
        "# Memvisualisasikan seberapa baik model memprediksi data uji\n",
        "plt.figure(figsize=(10, 6))\n",
        "plt.scatter(y_test, y_pred, color='blue', alpha=0.5)\n",
        "plt.plot([y_test.min(), y_test.max()], [y_test.min(), y_test.max()], color='red', lw=2)\n",
        "plt.xlabel('Nilai Sebenarnya')\n",
        "plt.ylabel('Nilai Prediksi')\n",
        "plt.title('Nilai Sebenarnya vs Prediksi (SVR)')\n",
        "plt.show()\n"
      ],
      "metadata": {
        "colab": {
          "base_uri": "https://localhost:8080/",
          "height": 564
        },
        "id": "UkdGD0a1trp_",
        "outputId": "d60739dc-da70-4559-895a-6d8127b1c7ba"
      },
      "execution_count": 82,
      "outputs": [
        {
          "output_type": "display_data",
          "data": {
            "text/plain": [
              "<Figure size 1000x600 with 1 Axes>"
            ],
            "image/png": "[encoded data removed]"
          },
          "metadata": {}
        }
      ]
    }
  ]
}