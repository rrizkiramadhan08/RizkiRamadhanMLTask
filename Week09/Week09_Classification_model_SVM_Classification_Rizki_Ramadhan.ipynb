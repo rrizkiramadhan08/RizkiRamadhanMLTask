{
  "nbformat": 4,
  "nbformat_minor": 0,
  "metadata": {
    "colab": {
      "provenance": [],
      "authorship_tag": "ABX9TyOzcUXp2WHYGXV96wM6adSg",
      "include_colab_link": true
    },
    "kernelspec": {
      "name": "python3",
      "display_name": "Python 3"
    },
    "language_info": {
      "name": "python"
    }
  },
  "cells": [
    {
      "cell_type": "markdown",
      "metadata": {
        "id": "view-in-github",
        "colab_type": "text"
      },
      "source": [
        "<a href=\"https://colab.research.google.com/github/rrizkiramadhan08/RizkiRamadhanTask/blob/main/Week09/Week09_Classification_model_SVM_Classification_Rizki_Ramadhan.ipynb\" target=\"_parent\"><img src=\"https://colab.research.google.com/assets/colab-badge.svg\" alt=\"Open In Colab\"/></a>"
      ]
    },
    {
      "cell_type": "markdown",
      "source": [
        "Importing Libraries"
      ],
      "metadata": {
        "id": "xCNn2n4HwdDv"
      }
    },
    {
      "cell_type": "code",
      "execution_count": 38,
      "metadata": {
        "id": "y_PJpAgmvg6G"
      },
      "outputs": [],
      "source": [
        "import pandas as pd\n",
        "import numpy as np\n",
        "from sklearn.model_selection import train_test_split\n",
        "from sklearn.preprocessing import StandardScaler, LabelEncoder\n",
        "from sklearn.svm import SVC\n",
        "from sklearn.metrics import accuracy_score, precision_score, recall_score, f1_score, roc_auc_score, roc_curve, confusion_matrix\n",
        "import matplotlib.pyplot as plt\n",
        "import seaborn as sns\n",
        "from google.colab import drive"
      ]
    },
    {
      "cell_type": "code",
      "source": [
        "# Menghubungkan Google Drive agar dapat mengakses dataset\n",
        "# Dataset harus sudah di-upload ke Google Drive agar dapat diproses\n",
        "# Menggunakan Google Colab, kita dapat mengakses dataset yang tersimpan di Google Drive\n",
        "print(\"Menghubungkan ke Google Drive...\")#\n",
        "drive.mount('/content/gdrive')"
      ],
      "metadata": {
        "id": "9dBRrEcQwcCl"
      },
      "execution_count": 39,
      "outputs": []
    },
    {
      "cell_type": "code",
      "source": [
        "# Mengimpor dataset \"MaterialStrength.csv\" dari Google Drive\n",
        "# Path disesuaikan dengan lokasi file di Google Drive\n",
        "print(\"Membaca dataset dari Google Drive...\")\n",
        "dataset_path = '/content/gdrive/MyDrive/DATA SET/MaterialStrength.csv'\n",
        "df = pd.read_csv(dataset_path)\n"
      ],
      "metadata": {
        "colab": {
          "base_uri": "https://localhost:8080/"
        },
        "id": "PYYSippAwmzO",
        "outputId": "f1958901-2c26-4ff1-e61f-4c171100e73a"
      },
      "execution_count": 40,
      "outputs": [
        {
          "output_type": "stream",
          "name": "stdout",
          "text": [
            "Membaca dataset dari Google Drive...\n"
          ]
        }
      ]
    },
    {
      "cell_type": "code",
      "source": [
        "# Menampilkan lima data teratas dari dataset\n",
        "# Memeriksa struktur dataset dan melihat beberapa sampel data\n",
        "print(\"Menampilkan data sample:\")\n",
        "print(df.head())\n"
      ],
      "metadata": {
        "colab": {
          "base_uri": "https://localhost:8080/"
        },
        "id": "wAvO95KWw8R4",
        "outputId": "7486dca0-ce42-4268-9225-2af8acee42ed"
      },
      "execution_count": 41,
      "outputs": [
        {
          "output_type": "stream",
          "name": "stdout",
          "text": [
            "Menampilkan data sample:\n",
            "      x1     x2   x3     x4   x5      x6     x7   x8        x9    x10  \\\n",
            "0  540.0    0.0  0.0  162.0  2.5  1040.0  676.0   28  0.300000  540.0   \n",
            "1  540.0    0.0  0.0  162.0  2.5  1055.0  676.0   28  0.300000  540.0   \n",
            "2  332.5  142.5  0.0  228.0  0.0   932.0  594.0  270  0.685714  475.0   \n",
            "3  332.5  142.5  0.0  228.0  0.0   932.0  594.0  365  0.685714  475.0   \n",
            "4  198.6  132.4  0.0  192.0  0.0   978.4  825.5  360  0.966767  331.0   \n",
            "\n",
            "        x11  x12       x13  x14  x15  target_feature  \n",
            "0  1.538462    1  0.350044  YEs   NO           79.99  \n",
            "1  1.560651    1  0.452416  yES  nOO           61.89  \n",
            "2  1.569024    0  6.704743  yEs   NO           40.27  \n",
            "3  1.569024    0  8.891596  yes  NOO           41.05  \n",
            "4  1.185221    0  8.126411  YeS   no           44.30  \n"
          ]
        }
      ]
    },
    {
      "cell_type": "code",
      "source": [
        "\n",
        "# Memeriksa nilai null dan informasi dataset secara keseluruhan\n",
        "# Untuk melihat apakah ada nilai kosong yang perlu diproses\n",
        "print(\"Memeriksa nilai null dalam dataset...\")\n",
        "print(df.info())\n",
        "\n"
      ],
      "metadata": {
        "colab": {
          "base_uri": "https://localhost:8080/"
        },
        "id": "jw9XeFUew8Ph",
        "outputId": "bb5fad7a-547d-47cd-907b-7ca7baae6e50"
      },
      "execution_count": 42,
      "outputs": [
        {
          "output_type": "stream",
          "name": "stdout",
          "text": [
            "Memeriksa nilai null dalam dataset...\n",
            "<class 'pandas.core.frame.DataFrame'>\n",
            "RangeIndex: 1030 entries, 0 to 1029\n",
            "Data columns (total 16 columns):\n",
            " #   Column          Non-Null Count  Dtype  \n",
            "---  ------          --------------  -----  \n",
            " 0   x1              1030 non-null   float64\n",
            " 1   x2              1030 non-null   float64\n",
            " 2   x3              1030 non-null   float64\n",
            " 3   x4              1030 non-null   float64\n",
            " 4   x5              1030 non-null   float64\n",
            " 5   x6              1030 non-null   float64\n",
            " 6   x7              1030 non-null   float64\n",
            " 7   x8              1030 non-null   int64  \n",
            " 8   x9              1030 non-null   float64\n",
            " 9   x10             1030 non-null   float64\n",
            " 10  x11             1030 non-null   float64\n",
            " 11  x12             1030 non-null   int64  \n",
            " 12  x13             1030 non-null   float64\n",
            " 13  x14             1030 non-null   object \n",
            " 14  x15             1030 non-null   object \n",
            " 15  target_feature  1030 non-null   float64\n",
            "dtypes: float64(12), int64(2), object(2)\n",
            "memory usage: 128.9+ KB\n",
            "None\n"
          ]
        }
      ]
    },
    {
      "cell_type": "code",
      "source": [
        "# Menghapus baris yang mengandung nilai null (jika ada)\n",
        "# Mengatasi data yang hilang agar tidak mengganggu hasil model\n",
        "print(\"Menghapus nilai null dari dataset...\")\n",
        "df = df.dropna()"
      ],
      "metadata": {
        "colab": {
          "base_uri": "https://localhost:8080/"
        },
        "id": "oOMegak6w8NK",
        "outputId": "4133ddfd-7a6f-4044-ba10-4cab9a6302a4"
      },
      "execution_count": 43,
      "outputs": [
        {
          "output_type": "stream",
          "name": "stdout",
          "text": [
            "Menghapus nilai null dari dataset...\n"
          ]
        }
      ]
    },
    {
      "cell_type": "code",
      "source": [
        "# Memisahkan data fitur (X) dan target (y)\n",
        "# X adalah variabel bebas (fitur) dan y adalah variabel target\n",
        "# Asumsikan kolom terakhir adalah kolom target\n",
        "X = df.iloc[:, :-1]\n",
        "y = df.iloc[:, -1]"
      ],
      "metadata": {
        "id": "PUvcsp3Iw8K4"
      },
      "execution_count": 44,
      "outputs": []
    },
    {
      "cell_type": "code",
      "source": [
        "# Mengubah target menjadi tipe kategorikal jika target adalah kontinu\n",
        "# Untuk menghindari error ketika target tidak sesuai untuk klasifikasi\n",
        "y = pd.cut(y, bins=2, labels=[0, 1]) if y.dtype in ['int64', 'float64'] else y\n",
        "\n",
        "# Mengidentifikasi fitur kategorikal dan numerik\n",
        "categorical_features = X.select_dtypes(include=['object']).columns\n",
        "numeric_features = X.select_dtypes(include=['int64', 'float64']).columns\n",
        "\n",
        "# Mengubah fitur kategorikal menjadi numerik menggunakan LabelEncoder\n",
        "print(\"Melakukan label encoding untuk fitur kategorikal...\")\n",
        "label_encoders = {}\n",
        "for col in categorical_features:\n",
        "    le = LabelEncoder()\n",
        "    X[col] = le.fit_transform(X[col])\n",
        "    label_encoders[col] = le\n",
        "\n",
        "# Menstandarisasi fitur numerik\n",
        "print(\"Melakukan standardisasi fitur numerik...\")\n",
        "scaler = StandardScaler()\n",
        "X[numeric_features] = scaler.fit_transform(X[numeric_features])"
      ],
      "metadata": {
        "colab": {
          "base_uri": "https://localhost:8080/"
        },
        "id": "BMl0zbA5w8IO",
        "outputId": "a29f2786-0fa5-43bc-db7a-15c3b20ae279"
      },
      "execution_count": 45,
      "outputs": [
        {
          "output_type": "stream",
          "name": "stdout",
          "text": [
            "Melakukan label encoding untuk fitur kategorikal...\n",
            "Melakukan standardisasi fitur numerik...\n"
          ]
        }
      ]
    },
    {
      "cell_type": "code",
      "source": [
        "# Membagi dataset menjadi data latih (train) dan data uji (test)\n",
        "# 80% data untuk latih dan 20% data untuk uji\n",
        "print(\"Membagi dataset menjadi train dan test...\")\n",
        "X_train, X_test, y_train, y_test = train_test_split(X, y, test_size=0.2, random_state=42)"
      ],
      "metadata": {
        "colab": {
          "base_uri": "https://localhost:8080/"
        },
        "id": "i957e-WVyCBK",
        "outputId": "51fd8b28-6f24-4e3b-a0e4-fe19478a9af8"
      },
      "execution_count": 46,
      "outputs": [
        {
          "output_type": "stream",
          "name": "stdout",
          "text": [
            "Membagi dataset menjadi train dan test...\n"
          ]
        }
      ]
    },
    {
      "cell_type": "code",
      "source": [
        "# Membuat dan melatih model SVM Classification (SVC)\n",
        "# Menggunakan kernel radial basis function (RBF)\n",
        "print(\"Membuat model SVC dan melatih model...\")\n",
        "svm_classifier = SVC(kernel='rbf', probability=True)\n",
        "svm_classifier.fit(X_train, y_train)\n",
        "\n",
        "# Melakukan prediksi menggunakan data uji\n",
        "print(\"Melakukan prediksi pada data uji...\")\n",
        "y_pred = svm_classifier.predict(X_test)"
      ],
      "metadata": {
        "colab": {
          "base_uri": "https://localhost:8080/"
        },
        "id": "ntMDKU9DyE1z",
        "outputId": "3792fb15-48bf-4533-dab3-8648342434b2"
      },
      "execution_count": 47,
      "outputs": [
        {
          "output_type": "stream",
          "name": "stdout",
          "text": [
            "Membuat model SVC dan melatih model...\n",
            "Melakukan prediksi pada data uji...\n"
          ]
        }
      ]
    },
    {
      "cell_type": "code",
      "source": [
        "# Menghitung metrik evaluasi untuk model klasifikasi\n",
        "# Mengukur kinerja model menggunakan metrik Akurasi, Presisi, Recall, F1, dan AUC\n",
        "print(\"Evaluasi Model...\")\n",
        "accuracy = accuracy_score(y_test, y_pred)\n",
        "precision = precision_score(y_test, y_pred, average='weighted')\n",
        "recall = recall_score(y_test, y_pred, average='weighted')\n",
        "f1 = f1_score(y_test, y_pred, average='weighted')\n",
        "y_prob = svm_classifier.predict_proba(X_test)[:, 1] if len(np.unique(y)) == 2 else None\n",
        "auc = roc_auc_score(y_test, y_prob) if y_prob is not None else 'N/A'\n",
        "\n",
        "print(\"Akurasi:\", accuracy)\n",
        "print(\"Presisi (weighted):\", precision)\n",
        "print(\"Recall (weighted):\", recall)\n",
        "print(\"F1 Score (weighted):\", f1)\n",
        "print(\"AUC:\", auc)"
      ],
      "metadata": {
        "colab": {
          "base_uri": "https://localhost:8080/"
        },
        "id": "JZnwo6o5yEze",
        "outputId": "e29e89ab-9471-46db-bf51-efeedba64a1c"
      },
      "execution_count": 48,
      "outputs": [
        {
          "output_type": "stream",
          "name": "stdout",
          "text": [
            "Evaluasi Model...\n",
            "Akurasi: 0.8155339805825242\n",
            "Presisi (weighted): 0.8113089134512831\n",
            "Recall (weighted): 0.8155339805825242\n",
            "F1 Score (weighted): 0.812030273260632\n",
            "AUC: 0.902127659574468\n"
          ]
        }
      ]
    },
    {
      "cell_type": "code",
      "source": [
        "# Membuat confusion matrix untuk melihat performa prediksi model\n",
        "print(\"Membuat Confusion Matrix...\")\n",
        "conf_matrix = confusion_matrix(y_test, y_pred)\n",
        "sns.heatmap(conf_matrix, annot=True, cmap='Blues', fmt='g')\n",
        "plt.xlabel('Prediksi')\n",
        "plt.ylabel('Sebenarnya')\n",
        "plt.title('Confusion Matrix')\n",
        "plt.show()\n"
      ],
      "metadata": {
        "colab": {
          "base_uri": "https://localhost:8080/",
          "height": 489
        },
        "id": "8HrAoFpJyExH",
        "outputId": "f507029a-9a9b-4b35-a2f3-6861c3d3bdaf"
      },
      "execution_count": 49,
      "outputs": [
        {
          "output_type": "stream",
          "name": "stdout",
          "text": [
            "Membuat Confusion Matrix...\n"
          ]
        },
        {
          "output_type": "display_data",
          "data": {
            "text/plain": [
              "<Figure size 640x480 with 2 Axes>"
            ],
            "image/png": "[encoded data removed]"
          },
          "metadata": {}
        }
      ]
    },
    {
      "cell_type": "code",
      "source": [
        "# Membuat ROC Curve jika klasifikasi biner\n",
        "if y_prob is not None:\n",
        "    print(\"Membuat ROC Curve...\")\n",
        "    fpr, tpr, _ = roc_curve(y_test, y_prob)\n",
        "    plt.figure(figsize=(10, 6))\n",
        "    plt.plot(fpr, tpr, color='blue', lw=2)\n",
        "    plt.plot([0, 1], [0, 1], color='red', linestyle='--')\n",
        "    plt.xlabel('False Positive Rate')\n",
        "    plt.ylabel('True Positive Rate')\n",
        "    plt.title('ROC Curve')\n",
        "    plt.show()\n"
      ],
      "metadata": {
        "colab": {
          "base_uri": "https://localhost:8080/",
          "height": 581
        },
        "id": "FpAeoHg7yP-Q",
        "outputId": "10284031-2540-4216-8939-fc701eb5467d"
      },
      "execution_count": 50,
      "outputs": [
        {
          "output_type": "stream",
          "name": "stdout",
          "text": [
            "Membuat ROC Curve...\n"
          ]
        },
        {
          "output_type": "display_data",
          "data": {
            "text/plain": [
              "<Figure size 1000x600 with 1 Axes>"
            ],
            "image/png": "[encoded data removed]"
          },
          "metadata": {}
        }
      ]
    }
  ]
}